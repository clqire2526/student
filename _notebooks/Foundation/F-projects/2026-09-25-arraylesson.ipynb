{
 "cells": [
  {
   "cell_type": "markdown",
   "id": "12484d10",
   "metadata": {},
   "source": [
    "---\n",
    "layout: post\n",
    "title: Understanding Calculator\n",
    "description: Claire's Blog - about arrays\n",
    "permalink: /arraylesson\n",
    "---\n",
    "\n"
   ]
  },
  {
   "cell_type": "markdown",
   "id": "3474746d",
   "metadata": {},
   "source": [
    "Understanding the calculator \n",
    "\n",
    "Arrays are like containers:\n",
    "\n",
    "- They group multiple elements into one variable\n",
    "- save you from unnecessary typing and keeps your code organized\n",
    "\n"
   ]
  },
  {
   "cell_type": "markdown",
   "id": "65e2e703",
   "metadata": {},
   "source": [
    "### Example: Array of People's Names\n",
    "\n",
    "For example, pretend you have a group of friends: Glaire, Blaire, Claire, and David. Instead of typing out each individual name every time you want to incorporate them into your code, you can use an array called `people` to store all the names in one place and work with the list easily.\n"
   ]
  },
  {
   "cell_type": "code",
   "execution_count": null,
   "id": "e892ed77",
   "metadata": {},
   "outputs": [],
   "source": [
    "# Creating an array (list) of people's names\n",
    "people = [\"Glaire\", \"Blaire\", \"Claire\", \"David\"]\n",
    "print(people)"
   ]
  },
  {
   "cell_type": "markdown",
   "id": "6251d7d2",
   "metadata": {},
   "source": [
    "In the calculator lesson, an example of an array would be - "
   ]
  },
  {
   "cell_type": "code",
   "execution_count": null,
   "id": "e84c04db",
   "metadata": {},
   "outputs": [],
   "source": [
    "const numbers = document.querySelectorAll(\".calculator-number\");"
   ]
  },
  {
   "cell_type": "markdown",
   "id": "489b8481",
   "metadata": {},
   "source": [
    "This array acts as a container for all the numbers on the calculator so that every time you want to reference them, you don't have to type out each individual number."
   ]
  },
  {
   "cell_type": "markdown",
   "id": "ed327f99",
   "metadata": {},
   "source": [
    "<a href=\"https://clqire2526.github.io/student/booleanlesson/\">\n",
    "  <button style=\"background-color:#007acc; color:white; padding:10px 15px; border:none; border-radius:5px; cursor:pointer;\">\n",
    "    Go to Boolean Lesson\n",
    "  </button>\n",
    "</a>\n"
   ]
  }
 ],
 "metadata": {
  "kernelspec": {
   "display_name": "venv",
   "language": "python",
   "name": "python3"
  },
  "language_info": {
   "codemirror_mode": {
    "name": "ipython",
    "version": 3
   },
   "file_extension": ".py",
   "mimetype": "text/x-python",
   "name": "python",
   "nbconvert_exporter": "python",
   "pygments_lexer": "ipython3",
   "version": "3.13.7"
  }
 },
 "nbformat": 4,
 "nbformat_minor": 5
}
