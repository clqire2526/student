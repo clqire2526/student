{
 "cells": [
  {
   "cell_type": "markdown",
   "id": "12484d10",
   "metadata": {},
   "source": [
    "---\n",
    "layout: post\n",
    "title: Understanding Calculator\n",
    "description: Claire's Blog - about arrays\n",
    "permalink: /arraylesson\n",
    "---\n",
    "\n"
   ]
  },
  {
   "cell_type": "markdown",
   "id": "3474746d",
   "metadata": {},
   "source": [
    "Understanding the calculator \n",
    "\n",
    "Arrays are like containers:\n",
    "\n",
    "- They group multiple elements into one variable\n",
    "- save you from unnecessary typing and keeps your code organized\n",
    "\n"
   ]
  },
  {
   "cell_type": "markdown",
   "id": "65e2e703",
   "metadata": {},
   "source": [
    "### Example: Array of People's Names\n",
    "\n",
    "For example, pretend you have a group of friends: Glaire, Blaire, Claire, and David. Instead of typing out each individual name every time you want to incorporate them into your code, you can use an array called `people` to store all the names in one place and work with the list easily.\n"
   ]
  },
  {
   "cell_type": "code",
   "execution_count": 1,
   "id": "9db2c3e1",
   "metadata": {},
   "outputs": [
    {
     "name": "stdout",
     "output_type": "stream",
     "text": [
      "['Glaire', 'Blaire', 'Claire', 'David']\n"
     ]
    }
   ],
   "source": [
    "# Creating an array (list) of people's names\n",
    "people = [\"Glaire\", \"Blaire\", \"Claire\", \"David\"]\n",
    "print(people)\n"
   ]
  },
  {
   "cell_type": "markdown",
   "id": "6251d7d2",
   "metadata": {},
   "source": [
    "In the calculator lesson, an example of an array would be - "
   ]
  },
  {
   "cell_type": "code",
   "execution_count": 2,
   "id": "2f0bb26e",
   "metadata": {},
   "outputs": [
    {
     "ename": "SyntaxError",
     "evalue": "invalid syntax (1815549187.py, line 1)",
     "output_type": "error",
     "traceback": [
      "  \u001b[36mCell\u001b[39m\u001b[36m \u001b[39m\u001b[32mIn[2]\u001b[39m\u001b[32m, line 1\u001b[39m\n\u001b[31m    \u001b[39m\u001b[31mconst numbers = document.querySelectorAll(\"calculator-number\");\u001b[39m\n          ^\n\u001b[31mSyntaxError\u001b[39m\u001b[31m:\u001b[39m invalid syntax\n"
     ]
    }
   ],
   "source": [
    "const numbers = document.querySelectorAll(\"calculator-number\");"
   ]
  },
  {
   "cell_type": "markdown",
   "id": "489b8481",
   "metadata": {},
   "source": [
    "This array acts as a container for all the numbers on the calculator so that every time you want to reference them, you don't have to type out each individual number."
   ]
  },
  {
   "cell_type": "markdown",
   "id": "ed327f99",
   "metadata": {},
   "source": [
    "<a href=\"/booleanlesson\">\n",
    "  <button>Go to Boolean Lesson</button>\n",
    "</a>\n"
   ]
  }
 ],
 "metadata": {
  "kernelspec": {
   "display_name": "venv",
   "language": "python",
   "name": "python3"
  },
  "language_info": {
   "codemirror_mode": {
    "name": "ipython",
    "version": 3
   },
   "file_extension": ".py",
   "mimetype": "text/x-python",
   "name": "python",
   "nbconvert_exporter": "python",
   "pygments_lexer": "ipython3",
   "version": "3.13.7"
  }
 },
 "nbformat": 4,
 "nbformat_minor": 5
}
