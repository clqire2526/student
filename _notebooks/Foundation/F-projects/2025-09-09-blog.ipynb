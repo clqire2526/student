{
 "cells": [
  {
   "cell_type": "markdown",
   "id": "8629956b",
   "metadata": {},
   "source": [
    "---\n",
    "layout: post\n",
    "title: My Blog\n",
    "description: Claire's Blog\n",
    "permalink: /myblog\n",
    "---\n",
    "\n"
   ]
  },
  {
   "cell_type": "markdown",
   "id": "36835921",
   "metadata": {},
   "source": [
    "\n",
    "\n",
    "Welcome to my blog!\n",
    "\n",
    "Jupyter Notebooks \n",
    "\n",
    "-make sure it is running in console\n",
    "\n",
    "-changed javascript to HTML and random joke will generate in a seperate cell att he bottom\n",
    "\n",
    "Theme Change\n",
    "\n",
    "-use command to see make targets and run the make command (can use make help as well)\n",
    "\n",
    "Flying UFO 🛸\n",
    "\n",
    "-Follow instructions and download all required files (sprites/game objects)\n",
    "\n",
    "-change layout for opencs to base\n",
    "\n",
    "-remove front slashes in front of the images\n",
    "\n",
    "-run make and then add permalink to end of the URL\n",
    "\n",
    "-blog complete ⍻\n"
   ]
  }
 ],
 "metadata": {
  "language_info": {
   "name": "python"
  }
 },
 "nbformat": 4,
 "nbformat_minor": 5
}
