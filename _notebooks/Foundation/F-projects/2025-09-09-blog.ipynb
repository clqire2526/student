{
 "cells": [
  {
   "cell_type": "markdown",
   "id": "8629956b",
   "metadata": {},
   "source": [
    "---\n",
    "layout: post\n",
    "title: My Blog\n",
    "description: Claire's Blog\n",
    "permalink: /myblog\n",
    "---\n",
    "\n"
   ]
  },
  {
   "cell_type": "markdown",
   "id": "36835921",
   "metadata": {},
   "source": [
    "\n",
    "\n",
    "Welcome to my blog!\n",
    "\n",
    "Jupyter Notebooks \n",
    "\n",
    "- make sure it is running in console\n",
    "\n",
    "- changed javascript to HTML and random joke will generate in a seperate cell att he bottom\n",
    "\n",
    "\n",
    "Theme Change\n",
    "\n",
    "- use command to see make targets and run the make command (can use make help as well)\n",
    "\n",
    "If make is not working, make sure that all changes are saved and that the venv is correct.\n",
    "\n",
    "Flying UFO 🛸\n",
    "\n",
    "- Follow instructions and download all required files (sprites/game objects)\n",
    "\n",
    "- change layout for opencs to base\n",
    "\n",
    "- remove front slashes in front of the images\n",
    "\n",
    "- run make and then add permalink to end of the URL\n",
    "\n",
    "Reminders\n",
    "\n",
    "Permalinks are the keywords you add to the end of the url in order to run (ex: myblog, background)\n",
    "\n",
    "SET UP FOR VSCODE \n",
    "\n",
    "student repo: cd clqire2526/student\n",
    "\n",
    "pages repo: cd opencs/pages\n",
    "\n",
    "source venv/bin/activate \n",
    "\n",
    "code .\n",
    "\n",
    "Comments- Use copliot to add comments to background.md\n",
    "\n",
    "ANALYTICS\n",
    "\n",
    "- open on opencodingsociety page and login\n",
    "- go to Analytics to show issues, commits, etc.\n",
    "\n",
    "-blog complete ⍻\n"
   ]
  }
 ],
 "metadata": {
  "language_info": {
   "name": "python"
  }
 },
 "nbformat": 4,
 "nbformat_minor": 5
}
