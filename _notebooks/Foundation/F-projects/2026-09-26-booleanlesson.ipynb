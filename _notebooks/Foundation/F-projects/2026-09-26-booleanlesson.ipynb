{
 "cells": [
  {
   "cell_type": "markdown",
   "id": "60f41ea3",
   "metadata": {},
   "source": [
    "---\n",
    "layout: post\n",
    "title: Understanding Calculator\n",
    "description: Claire's Blog - about booleans\n",
    "permalink: /booleanlesson\n",
    "---"
   ]
  },
  {
   "cell_type": "markdown",
   "id": "c1d6a018",
   "metadata": {},
   "source": [
    "All About Booleans"
   ]
  }
 ],
 "metadata": {
  "language_info": {
   "name": "python"
  }
 },
 "nbformat": 4,
 "nbformat_minor": 5
}
